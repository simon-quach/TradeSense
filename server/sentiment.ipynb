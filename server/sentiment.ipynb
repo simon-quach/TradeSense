{
 "cells": [
  {
   "cell_type": "markdown",
   "id": "7cfac369-9cef-4b28-9118-723481943f9d",
   "metadata": {},
   "source": [
    "# Sentiment prediction of stock performance\n",
    "#### Takes in list of webpages resulting from a stock ticker search, calculates overall sentiment, sentiment volatility, and gives bullish/bearish estimation"
   ]
  },
  {
   "cell_type": "code",
   "execution_count": 123,
   "id": "da28fdac-4581-45c6-b0bd-e69ae9385144",
   "metadata": {},
   "outputs": [],
   "source": [
    "import boto3\n",
    "import statistics\n",
    "import json\n",
    "from collections import Counter\n",
    "import numpy as np\n",
    "import tensorflow as tf # Neural Network model\n",
    "from tensorflow.keras.models import Sequential\n",
    "from tensorflow.keras.layers import Dense\n",
    "import matplotlib.pyplot as plt\n",
    "from arch import arch_model  # GARCH model\n",
    "import requests\n",
    "from bs4 import BeautifulSoup"
   ]
  },
  {
   "cell_type": "code",
   "execution_count": 124,
   "id": "d156030c-7d48-48bb-ba03-5dbbe98b40b5",
   "metadata": {},
   "outputs": [],
   "source": [
    "client = boto3.client('comprehend')\n",
    "\n",
    "\n",
    "class SentimentMarker:\n",
    "    def __init__(self, sentiment, sentiment_score):\n",
    "        self.sentiment = sentiment\n",
    "        self.sentiment_score = sentiment_score"
   ]
  },
  {
   "cell_type": "code",
   "execution_count": 246,
   "id": "134f3140-6c39-45fa-b18c-3aea808a2823",
   "metadata": {},
   "outputs": [],
   "source": [
    "# takes in a dict of webpages from webscraping, returns sentiment analysis\n",
    "def utf8len(s):\n",
    "    return len(s.encode('utf-8'))\n",
    "\n",
    "def sentiment(webpage_list):\n",
    "    res = []\n",
    "    res_data = []\n",
    "    for webPage in webpage_list: \n",
    "        # uses sentiment analysis model to get metrics from specific webpage\n",
    "        if(utf8len(webPage['bodyText'])>5000):\n",
    "            continue\n",
    "        response = client.detect_sentiment(\n",
    "            Text=webPage['bodyText'],\n",
    "            LanguageCode='en'\n",
    "        )\n",
    "        res.append(response)\n",
    "        res_data.append(response['Sentiment'])\n",
    "    overall_sentiment = (overall_sent(res_data)).lower().capitalize() # finds plurality of sentiment\n",
    "    print(overall_sentiment)\n",
    "    scores=[]     \n",
    "    for dic in res:\n",
    "        scores.append(dic['SentimentScore'][overall_sentiment])\n",
    "    uncertainty = statistics.mean(scores)  # takes mean of uncertainty metric\n",
    "    return overall_sentiment, uncertainty\n",
    "\n",
    "\n",
    "def overall_sent(sentiment_markers):\n",
    "    c = Counter(sentiment_markers)\n",
    "    return c.most_common()[0][0]"
   ]
  },
  {
   "cell_type": "code",
   "execution_count": 247,
   "id": "a4c662bf-c9d7-48a5-abc1-ceb87afe7e59",
   "metadata": {},
   "outputs": [
    {
     "name": "stdout",
     "output_type": "stream",
     "text": [
      "Neutral\n",
      "('Neutral', 0.7165432870388031)\n"
     ]
    }
   ],
   "source": [
    "with open('sample.json', 'r') as openfile:\n",
    " \n",
    "    # Reading from json file\n",
    "    json_object = json.load(openfile)\n",
    " \n",
    "print(sentiment(json_object))"
   ]
  },
  {
   "cell_type": "code",
   "execution_count": 83,
   "id": "b2848979-b5b0-4bd2-9fd7-b84393301ab4",
   "metadata": {},
   "outputs": [
    {
     "data": {
      "text/plain": [
       "'Beta value not found for MSFT on Yahoo Finance.'"
      ]
     },
     "execution_count": 83,
     "metadata": {},
     "output_type": "execute_result"
    }
   ],
   "source": [
    "def result_classification(overall_sentiment, uncertainty, stock_ticker):\n",
    "    beta = get_beta(stock_ticker)\n",
    "    volatility_class = get_volatility(beta)\n",
    "    bear_bull_class = get_bullish(overall_sentiment, uncertainty)\n",
    "    growth_class = get_growth(bear_bull_class, volatility_class)\n",
    "    res = []\n",
    "    header = \"Our model is \"+uncertainty+\"% certain that the overall mood on \"+stock_ticker+\" is \"+overall_sentiment\n",
    "    beta_explanation = \"Since the beta of this company is \"+beta+\",it is \"+volatility_class\n",
    "    growth_explanation = \"Given that the market is \"+bear_bull_class+\", our model expects \"+growth_class\n",
    "    # This entire section may be replaced with a LLM wrapper (AWS offers a variety of them)\n",
    "    # Once we have growth prediction, we can inform user of stock's historical correlation\n",
    "    # between its performance and market sentiment\n",
    "    res.append(header)\n",
    "    res.append(beta_explanation)\n",
    "    res.append(growth_explanation)\n",
    "    return res\n",
    "\n",
    "\n",
    "# TODO: Use web scraper or online database to find what a stock's beta is\n",
    "def get_beta(ticker):\n",
    "    # Construct the URL for the stock's summary page on Yahoo Finance\n",
    "    url = f'https://finance.yahoo.com/quote/{ticker}?p={ticker}'\n",
    "\n",
    "    # Send an HTTP request to the URL\n",
    "    response = requests.get(url)\n",
    "\n",
    "    # print(response.status_code)\n",
    "\n",
    "    if response.status_code == 200:\n",
    "        # Parse the HTML content of the page using BeautifulSoup\n",
    "        soup = BeautifulSoup(response.text, 'html.parser')\n",
    "\n",
    "        # Find the beta value on the page\n",
    "        beta_tag = soup.find_all('span', {'class': \"svelte-tx3nkj\"})\n",
    "\n",
    "\n",
    "        if beta_tag:\n",
    "            beta_value = beta_tag.text\n",
    "            return beta_value\n",
    "        else:\n",
    "            return f'Beta value not found for {ticker} on Yahoo Finance.'\n",
    "\n",
    "    else:\n",
    "        return f'Failed to retrieve data. Status code: {response.status_code}'\n",
    "\n",
    "# TODO: Determine some function to output stock's movement nature from beta value\n",
    "def get_volatility(beta):\n",
    "    if beta<0.9:\n",
    "        return 0\n",
    "\n",
    "# TODO: Use overall sentiment and uncertainty metric to determine if/how much the market is bullish or bearish\n",
    "# This task may involve a generative LLM\n",
    "def get_bullish(overall_sentiment, uncertainty):\n",
    "    return 0\n",
    "# TODO: Uses bear/bull classification and volatility estimate to predict growth nature of stock in near future\n",
    "# This task may involve an LLM\n",
    "def get_growth(bear_bull_class, volatility_class):\n",
    "    return 0\n",
    "\n",
    "get_beta('MSFT')"
   ]
  },
  {
   "cell_type": "code",
   "execution_count": 70,
   "id": "da65d0ed-9c87-4580-a510-507789ad91d2",
   "metadata": {},
   "outputs": [],
   "source": [
    "def garch_model(stock_prices):\n",
    "    model = arch_model(train, mean='Zero', vol='GARCH', p=15, q=15)\n",
    "    model_fit = model.fit()\n",
    "    yhat = model_fit.forecast(horizon=30)  # predict up to 1 month in the future\n",
    "    return yhat.variance.values[-1, -1]  # return final predicted variance value \n",
    "\n",
    "\n",
    "def get_stock_prices(stock_ticker):\n",
    "    return 0\n",
    "    # TODO: get closing price of stock for every trading day for last 5 years (or longest available frame)\n",
    "\n",
    "\n",
    "\n",
    "def get_webpage_listing(stock_ticker):\n",
    "    return 0\n",
    "    # TODO: get list of webpages/article titles corresponding to specific stock ticker\n",
    "    # may also include correlation constant\n",
    "\n",
    "\n",
    "def combined_data(stock_ticker):\n",
    "    garch_volatility=garch_model(get_stock_prices(stock_ticker))\n",
    "    sentiment_volatility=sentiment(get_webpage_listing(stock_ticker))['uncertainty']\n",
    "    beta=get_beta(stock_ticker)\n",
    "    return garch_volatility, sentiment_volatility, beta\n",
    "\n",
    "\n",
    "def get_stock_tickers(n):\n",
    "    return 0\n",
    "    # TODO: return list of n most popular stock tickers as strings\n",
    "\n",
    "def train_neural_network(n):\n",
    "    # n = number of inputs into the NN\n",
    "    tickers = get_stock_tickers(n)\n",
    "    data = []\n",
    "    for ticker in tickers:\n",
    "        data.append(combined_data(ticker))\n",
    "    X = data[:, 0:1]\n",
    "    Y = data[:, 3]\n",
    "    model = Sequential(\n",
    "        [\n",
    "            tf.keras.Input(shape=(2,)),\n",
    "            Dense(units=25, activation='relu'),\n",
    "            Dense(units=10, activation='relu'),\n",
    "            Dense(units=1)\n",
    "        ]\n",
    "    )\n",
    "\n",
    "    model.compile(\n",
    "        loss='mean_squared_error',\n",
    "        optimizer=tf.keras.optimizers.Adam(0.01),\n",
    "    )\n",
    "\n",
    "    model.fit(\n",
    "        X, Y,\n",
    "        epochs=20\n",
    "    )\n",
    "\n",
    "    return model"
   ]
  },
  {
   "cell_type": "code",
   "execution_count": 71,
   "id": "b72d390c-adbf-41b8-9dbe-1e63c65ca707",
   "metadata": {},
   "outputs": [
    {
     "ename": "TypeError",
     "evalue": "'int' object is not iterable",
     "output_type": "error",
     "traceback": [
      "\u001b[0;31m---------------------------------------------------------------------------\u001b[0m",
      "\u001b[0;31mTypeError\u001b[0m                                 Traceback (most recent call last)",
      "Cell \u001b[0;32mIn[71], line 1\u001b[0m\n\u001b[0;32m----> 1\u001b[0m model \u001b[38;5;241m=\u001b[39m \u001b[43mtrain_neural_network\u001b[49m\u001b[43m(\u001b[49m\u001b[38;5;241;43m1000\u001b[39;49m\u001b[43m)\u001b[49m\n\u001b[1;32m      4\u001b[0m \u001b[38;5;28;01mdef\u001b[39;00m \u001b[38;5;21mbeta_prediction\u001b[39m(stock_ticker):\n\u001b[1;32m      5\u001b[0m     stock_info \u001b[38;5;241m=\u001b[39m combined_data(stock_ticker)[\u001b[38;5;241m0\u001b[39m:\u001b[38;5;241m1\u001b[39m]\n",
      "Cell \u001b[0;32mIn[70], line 35\u001b[0m, in \u001b[0;36mtrain_neural_network\u001b[0;34m(n)\u001b[0m\n\u001b[1;32m     33\u001b[0m tickers \u001b[38;5;241m=\u001b[39m get_stock_tickers(n)\n\u001b[1;32m     34\u001b[0m data \u001b[38;5;241m=\u001b[39m []\n\u001b[0;32m---> 35\u001b[0m \u001b[38;5;28;01mfor\u001b[39;00m ticker \u001b[38;5;129;01min\u001b[39;00m tickers:\n\u001b[1;32m     36\u001b[0m     data\u001b[38;5;241m.\u001b[39mappend(combined_data(ticker))\n\u001b[1;32m     37\u001b[0m X \u001b[38;5;241m=\u001b[39m data[:, \u001b[38;5;241m0\u001b[39m:\u001b[38;5;241m1\u001b[39m]\n",
      "\u001b[0;31mTypeError\u001b[0m: 'int' object is not iterable"
     ]
    }
   ],
   "source": [
    "model = train_neural_network(1000)\n",
    "\n",
    "\n",
    "def beta_prediction(stock_ticker):\n",
    "    stock_info = combined_data(stock_ticker)[0:1]\n",
    "    res = model.predict(stock_info)\n",
    "    return res"
   ]
  },
  {
   "cell_type": "code",
   "execution_count": 72,
   "id": "5c05cd8a-f5e0-477b-9647-f8307434b51a",
   "metadata": {},
   "outputs": [
    {
     "name": "stdout",
     "output_type": "stream",
     "text": [
      "Beta value not found for MSFT on Yahoo Finance.\n"
     ]
    }
   ],
   "source": [
    "# testing get_beta\n",
    "print(get_beta('MSFT'))"
   ]
  },
  {
   "cell_type": "code",
   "execution_count": null,
   "id": "de60cb34-c42e-43fc-96ac-5c318bd2fe87",
   "metadata": {},
   "outputs": [],
   "source": []
  },
  {
   "cell_type": "code",
   "execution_count": null,
   "id": "049e433b-6c9c-4f25-95dd-a16f5cbd27ff",
   "metadata": {},
   "outputs": [],
   "source": []
  }
 ],
 "metadata": {
  "kernelspec": {
   "display_name": "Python 3 (ipykernel)",
   "language": "python",
   "name": "python3"
  },
  "language_info": {
   "codemirror_mode": {
    "name": "ipython",
    "version": 3
   },
   "file_extension": ".py",
   "mimetype": "text/x-python",
   "name": "python",
   "nbconvert_exporter": "python",
   "pygments_lexer": "ipython3",
   "version": "3.10.13"
  }
 },
 "nbformat": 4,
 "nbformat_minor": 5
}
