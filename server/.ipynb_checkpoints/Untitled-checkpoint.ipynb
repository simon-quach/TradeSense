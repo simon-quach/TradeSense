{
 "cells": [
  {
   "cell_type": "code",
   "execution_count": 1,
   "id": "8c2a6c4b-3379-47ee-a3ee-9d2a133fb45e",
   "metadata": {},
   "outputs": [],
   "source": [
    "import yfinance as yf\n",
    "import numpy as np\n",
    "import pandas as pd"
   ]
  },
  {
   "cell_type": "code",
   "execution_count": null,
   "id": "e51c6fad-5582-4dc7-808c-b50788016ada",
   "metadata": {},
   "outputs": [],
   "source": [
    "def get_stock(ticker: str):\n",
    "    # get stock data over past week\n",
    "    stock = yf.Ticker(ticker)\n",
    "    hist = stock.history(period=\"1wk\")\n",
    "    return hist.to_json()"
   ]
  }
 ],
 "metadata": {
  "kernelspec": {
   "display_name": "Python 3 (ipykernel)",
   "language": "python",
   "name": "python3"
  },
  "language_info": {
   "codemirror_mode": {
    "name": "ipython",
    "version": 3
   },
   "file_extension": ".py",
   "mimetype": "text/x-python",
   "name": "python",
   "nbconvert_exporter": "python",
   "pygments_lexer": "ipython3",
   "version": "3.12.1"
  }
 },
 "nbformat": 4,
 "nbformat_minor": 5
}
